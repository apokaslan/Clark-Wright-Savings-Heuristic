{
  "nbformat": 4,
  "nbformat_minor": 0,
  "metadata": {
    "colab": {
      "provenance": []
    },
    "kernelspec": {
      "name": "python3",
      "display_name": "Python 3"
    },
    "language_info": {
      "name": "python"
    }
  },
  "cells": [
    {
      "cell_type": "code",
      "source": [
        "#MALİYET MATRİSİ \n",
        "import numpy as np\n",
        "\n",
        "def create_savings_matrix(distance_matrix):\n",
        "    num_nodes = len(distance_matrix)\n",
        "    savings_matrix = np.zeros((num_nodes, num_nodes), dtype=int)\n",
        "    \n",
        "    for i in range(1, num_nodes):\n",
        "        for j in range(i+1, num_nodes):\n",
        "            saving = distance_matrix[0][i] + distance_matrix[0][j] - distance_matrix[i][j]\n",
        "            savings_matrix[i][j] = saving\n",
        "    \n",
        "    return savings_matrix\n",
        "\n",
        "# Uzaklık matrisi\n",
        "distance_matrix = np.array([\n",
        "    [0, 12, 11, 7, 10, 10, 9, 8, 6, 12],\n",
        "    [12, 0, 8, 5, 9, 12, 14, 16, 17, 22],\n",
        "    [11, 8, 0, 9, 15, 17, 8, 18, 14, 22],\n",
        "    [7, 5, 9, 0, 7, 9, 11, 12, 12, 17],\n",
        "    [10, 9, 15, 7, 0, 3, 17, 7, 15, 18],\n",
        "    [10, 12, 17, 9, 3, 0, 18, 6, 15, 15],\n",
        "    [9, 14, 8, 11, 17, 18, 0, 16, 8, 16],\n",
        "    [8, 16, 18, 12, 7, 6, 16, 0, 11, 11],\n",
        "    [6, 17, 14, 12, 15, 15, 8, 11, 0, 10],\n",
        "    [12, 22, 22, 17, 18, 15, 16, 11, 10, 0]\n",
        "])\n",
        "\n",
        "savings_matrix = create_savings_matrix(distance_matrix)\n",
        "\n",
        "# Tasarruf matrisi çıktısı\n",
        "print(\"Tasarruf Matrisi:\")\n",
        "print(\"\\t\", end=\"\")\n",
        "for i in range(1, len(savings_matrix)):\n",
        "    print(f\"{i}\\t\", end=\"\")\n",
        "print()\n",
        "\n",
        "for i in range(1, len(savings_matrix)):\n",
        "    print(f\"{i}\\t\", end=\"\")\n",
        "    for j in range(1, len(savings_matrix)):\n",
        "        print(f\"{savings_matrix[i][j]}\\t\", end=\"\")\n",
        "    print()\n"
      ],
      "metadata": {
        "colab": {
          "base_uri": "https://localhost:8080/"
        },
        "id": "G739AXRj423p",
        "outputId": "42e35177-c740-41a1-c132-4ba8a2176917"
      },
      "execution_count": 33,
      "outputs": [
        {
          "output_type": "stream",
          "name": "stdout",
          "text": [
            "Tasarruf Matrisi:\n",
            "\t1\t2\t3\t4\t5\t6\t7\t8\t9\t\n",
            "1\t0\t15\t14\t13\t10\t7\t4\t1\t2\t\n",
            "2\t0\t0\t9\t6\t4\t12\t1\t3\t1\t\n",
            "3\t0\t0\t0\t10\t8\t5\t3\t1\t2\t\n",
            "4\t0\t0\t0\t0\t17\t2\t11\t1\t4\t\n",
            "5\t0\t0\t0\t0\t0\t1\t12\t1\t7\t\n",
            "6\t0\t0\t0\t0\t0\t0\t1\t7\t5\t\n",
            "7\t0\t0\t0\t0\t0\t0\t0\t3\t9\t\n",
            "8\t0\t0\t0\t0\t0\t0\t0\t0\t8\t\n",
            "9\t0\t0\t0\t0\t0\t0\t0\t0\t0\t\n"
          ]
        }
      ]
    },
    {
      "cell_type": "code",
      "source": [
        "# büyükten küçüğe sıralama \n",
        "import numpy as np\n",
        "\n",
        "def create_savings_matrix(distance_matrix):\n",
        "    num_nodes = len(distance_matrix)\n",
        "    savings_matrix = np.zeros((num_nodes, num_nodes), dtype=int)\n",
        "    \n",
        "    for i in range(1, num_nodes):\n",
        "        for j in range(i+1, num_nodes):\n",
        "            saving = distance_matrix[0][i] + distance_matrix[0][j] - distance_matrix[i][j]\n",
        "            savings_matrix[i][j] = saving\n",
        "    \n",
        "    return savings_matrix\n",
        "\n",
        "# Uzaklık matrisi\n",
        "distance_matrix = np.array([\n",
        "    [0, 12, 11, 7, 10, 10, 9, 8, 6, 12],\n",
        "    [12, 0, 8, 5, 9, 12, 14, 16, 17, 22],\n",
        "    [11, 8, 0, 9, 15, 17, 8, 18, 14, 22],\n",
        "    [7, 5, 9, 0, 7, 9, 11, 12, 12, 17],\n",
        "    [10, 9, 15, 7, 0, 3, 17, 7, 15, 18],\n",
        "    [10, 12, 17, 9, 3, 0, 18, 6, 15, 15],\n",
        "    [9, 14, 8, 11, 17, 18, 0, 16, 8, 16],\n",
        "    [8, 16, 18, 12, 7, 6, 16, 0, 11, 11],\n",
        "    [6, 17, 14, 12, 15, 15, 8, 11, 0, 10],\n",
        "    [12, 22, 22, 17, 18, 15, 16, 11, 10, 0]\n",
        "])\n",
        "\n",
        "savings_matrix = create_savings_matrix(distance_matrix)\n",
        "\n",
        "# Matristeki değerleri büyükten küçüğe sıralama\n",
        "sorted_values = np.sort(savings_matrix.flatten())[::-1]\n",
        "\n",
        "# Değerleri tek bir sıra halinde yazdırma\n",
        "print(\"Sıralı Değerler:\")\n",
        "print(\"-\".join(map(str, sorted_values)))\n"
      ],
      "metadata": {
        "colab": {
          "base_uri": "https://localhost:8080/"
        },
        "id": "we-ig8BjZe4d",
        "outputId": "c13ac212-3761-4695-ddcf-b74511ccaa5e"
      },
      "execution_count": 35,
      "outputs": [
        {
          "output_type": "stream",
          "name": "stdout",
          "text": [
            "Sıralı Değerler:\n",
            "17-15-14-13-12-12-11-10-10-9-9-8-8-7-7-7-6-5-5-4-4-4-3-3-3-2-2-2-1-1-1-1-1-1-1-1-0-0-0-0-0-0-0-0-0-0-0-0-0-0-0-0-0-0-0-0-0-0-0-0-0-0-0-0-0-0-0-0-0-0-0-0-0-0-0-0-0-0-0-0-0-0-0-0-0-0-0-0-0-0-0-0-0-0-0-0-0-0-0-0\n"
          ]
        }
      ]
    },
    {
      "cell_type": "code",
      "source": [
        "import itertools\n",
        "\n",
        "def allocate_customers(demand, vehicle_capacity):\n",
        "    num_customers = len(demand)\n",
        "    customer_indices = range(1, num_customers+1)\n",
        "    best_allocation = None\n",
        "    min_total_distance = float('inf')\n",
        "\n",
        "    for allocation in itertools.permutations(customer_indices):\n",
        "        remaining_capacity = vehicle_capacity\n",
        "        total_distance = 0\n",
        "        current_vehicle = 0\n",
        "        current_allocation = []\n",
        "\n",
        "        for customer in allocation:\n",
        "            if demand[customer-1] <= remaining_capacity:\n",
        "                current_allocation.append(customer)\n",
        "                remaining_capacity -= demand[customer-1]\n",
        "            else:\n",
        "                current_vehicle += 1\n",
        "                remaining_capacity = vehicle_capacity - demand[customer-1]\n",
        "                current_allocation.append(customer)\n",
        "\n",
        "            if len(current_allocation) >= 2:\n",
        "                prev_customer = current_allocation[-2]\n",
        "                curr_customer = current_allocation[-1]\n",
        "                total_distance += distance_matrix[prev_customer-1][curr_customer-1]\n",
        "\n",
        "        if total_distance < min_total_distance:\n",
        "            min_total_distance = total_distance\n",
        "            best_allocation = current_allocation.copy()\n",
        "\n",
        "    return best_allocation\n",
        "\n",
        "# Müşteri talep tablosu\n",
        "demand = [10, 15, 18, 17, 3, 5, 9, 4, 6]\n",
        "# Her bir aracın taşıma kapasitesi\n",
        "vehicle_capacity = 40\n",
        "# Uzaklık matrisi (örnek olarak)\n",
        "distance_matrix = [\n",
        "    [0, 20, 30, 40, 50, 60, 70, 80, 90],\n",
        "    [20, 0, 10, 20, 30, 40, 50, 60, 70],\n",
        "    [30, 10, 0, 10, 20, 30, 40, 50, 60],\n",
        "    [40, 20, 10, 0, 10, 20, 30, 40, 50],\n",
        "    [50, 30, 20, 10, 0, 10, 20, 30, 40],\n",
        "    [60, 40, 30, 20, 10, 0, 10, 20, 30],\n",
        "    [70, 50, 40, 30, 20, 10, 0, 10, 20],\n",
        "    [80, 60, 50, 40, 30, 20, 10, 0, 10],\n",
        "    [90, 70, 60, 50, 40, 30, 20, 10, 0]\n",
        "]\n",
        "\n",
        "best_allocation = allocate_customers(demand, vehicle_capacity)\n",
        "\n",
        "# Sonuçları yazdırma\n",
        "for i, customer in enumerate(best_allocation):\n",
        "    print(f\"Müşteri {customer} Araç {i//vehicle_capacity + 1} ile eşleştirildi.\")\n"
      ],
      "metadata": {
        "colab": {
          "base_uri": "https://localhost:8080/"
        },
        "id": "xjZYewdac-GR",
        "outputId": "891d8b75-c134-4bbf-f3a8-2b0e379d5a07"
      },
      "execution_count": 38,
      "outputs": [
        {
          "output_type": "stream",
          "name": "stdout",
          "text": [
            "Müşteri 1 Araç 1 ile eşleştirildi.\n",
            "Müşteri 2 Araç 1 ile eşleştirildi.\n",
            "Müşteri 3 Araç 1 ile eşleştirildi.\n",
            "Müşteri 4 Araç 1 ile eşleştirildi.\n",
            "Müşteri 5 Araç 1 ile eşleştirildi.\n",
            "Müşteri 6 Araç 1 ile eşleştirildi.\n",
            "Müşteri 7 Araç 1 ile eşleştirildi.\n",
            "Müşteri 8 Araç 1 ile eşleştirildi.\n",
            "Müşteri 9 Araç 1 ile eşleştirildi.\n"
          ]
        }
      ]
    },
    {
      "cell_type": "code",
      "source": [
        "# TASARRUF MATRİSİ PDF E GÖRE ÇIKTI. \n",
        "import numpy as np\n",
        "\n",
        "def create_savings_matrix(distance_matrix):\n",
        "    num_nodes = len(distance_matrix)\n",
        "    savings_matrix = np.zeros((num_nodes, num_nodes), dtype=int)\n",
        "    \n",
        "    for i in range(1, num_nodes):\n",
        "        for j in range(i+1, num_nodes):\n",
        "            saving = distance_matrix[0][i] + distance_matrix[0][j] - distance_matrix[i][j]\n",
        "            savings_matrix[i][j] = saving\n",
        "    \n",
        "    return savings_matrix\n",
        "\n",
        "# Uzaklık matrisi\n",
        "distance_matrix = np.array([\n",
        "    [0, 20, 57, 51, 50, 10, 15, 90],\n",
        "    [20, 0, 51, 10, 55, 25, 30, 53],\n",
        "    [57, 51, 0, 50, 20, 30, 10, 47],\n",
        "    [51, 10, 50, 0, 50, 11, 60, 38],\n",
        "    [50, 55, 20, 50, 0, 50, 60, 10],\n",
        "    [10, 25, 30, 11, 50, 0, 20, 90],\n",
        "    [15, 30, 10, 60, 60, 20, 0, 12],\n",
        "    [90, 53, 47, 38, 10, 90, 12, 0]\n",
        "])\n",
        "\n",
        "savings_matrix = create_savings_matrix(distance_matrix)\n",
        "\n",
        "# Tasarruf matrisinin transpozu\n",
        "savings_matrix_transposed = np.transpose(savings_matrix)\n",
        "\n",
        "# Tasarruf matrisi çıktısı\n",
        "print(\"Tasarruf Matrisi:\")\n",
        "print(\"\\t\", end=\"\")\n",
        "for i in range(1, len(savings_matrix_transposed)):\n",
        "    print(f\"{i}\\t\", end=\"\")\n",
        "print()\n",
        "\n",
        "for i in range(1, len(savings_matrix_transposed)):\n",
        "    print(f\"{i}\\t\", end=\"\")\n",
        "    for j in range(1, len(savings_matrix_transposed)):\n",
        "        print(f\"{savings_matrix_transposed[i][j]}\\t\", end=\"\")\n",
        "    print()\n"
      ],
      "metadata": {
        "colab": {
          "base_uri": "https://localhost:8080/"
        },
        "id": "_R03kZ2BAYEa",
        "outputId": "c44a8c6f-2f19-45a2-cec2-d9d35691faa6"
      },
      "execution_count": 28,
      "outputs": [
        {
          "output_type": "stream",
          "name": "stdout",
          "text": [
            "Tasarruf Matrisi:\n",
            "\t1\t2\t3\t4\t5\t6\t7\t\n",
            "1\t0\t0\t0\t0\t0\t0\t0\t\n",
            "2\t26\t0\t0\t0\t0\t0\t0\t\n",
            "3\t61\t58\t0\t0\t0\t0\t0\t\n",
            "4\t15\t87\t51\t0\t0\t0\t0\t\n",
            "5\t5\t37\t50\t10\t0\t0\t0\t\n",
            "6\t5\t62\t6\t5\t5\t0\t0\t\n",
            "7\t57\t100\t103\t130\t10\t93\t0\t\n"
          ]
        }
      ]
    }
  ]
}